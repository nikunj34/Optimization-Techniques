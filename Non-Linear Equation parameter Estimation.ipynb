{
 "cells": [
  {
   "cell_type": "code",
   "execution_count": 2,
   "metadata": {},
   "outputs": [],
   "source": [
    "import numpy as np\n",
    "import scipy.io\n",
    "import pandas as pd\n",
    "import matplotlib.pyplot as plt"
   ]
  },
  {
   "cell_type": "code",
   "execution_count": 23,
   "metadata": {},
   "outputs": [
    {
     "data": {
      "text/plain": [
       "dict_keys(['__header__', '__version__', '__globals__', 'x_train', 'y_train', 'z_train', 'x_test', 'y_test', 'z_test'])"
      ]
     },
     "execution_count": 23,
     "metadata": {},
     "output_type": "execute_result"
    }
   ],
   "source": [
    "data = scipy.io.loadmat('data.mat')\n",
    "data.keys()"
   ]
  },
  {
   "cell_type": "code",
   "execution_count": 24,
   "metadata": {},
   "outputs": [],
   "source": [
    "x_train = np.array(data['x_train'][:,0])\n",
    "y_train = np.array(data['y_train'][:,0])\n",
    "z_train = np.array(data['z_train'][:,0])\n",
    "x_test = np.array(data['x_test'][:,0])\n",
    "y_test = np.array(data['y_test'][:,0])\n",
    "z_test = np.array(data['z_test'][:,0])"
   ]
  },
  {
   "cell_type": "code",
   "execution_count": 35,
   "metadata": {},
   "outputs": [],
   "source": [
    "a = 1\n",
    "b = 1\n",
    "c = 1\n",
    "alpha = 1\n",
    "params = np.array([1,1,1,1])\n",
    "params\n",
    "a_array = [1]\n",
    "b_array = [1]\n",
    "c_array = [1]\n",
    "alpha_array = [1]"
   ]
  },
  {
   "cell_type": "code",
   "execution_count": 36,
   "metadata": {},
   "outputs": [],
   "source": [
    "A = list(np.log(x_train+alpha))\n",
    "B = list(np.log(y_train))\n",
    "C = 1\n",
    "Alpha = list(a/(x_train+alpha))\n",
    "data = {\"A\":A,\"B\":B,\"C\":C,\"Alpha\":Alpha}\n",
    "df = pd.DataFrame.from_dict(data)"
   ]
  },
  {
   "cell_type": "code",
   "execution_count": 37,
   "metadata": {},
   "outputs": [
    {
     "data": {
      "text/html": [
       "<div>\n",
       "<style scoped>\n",
       "    .dataframe tbody tr th:only-of-type {\n",
       "        vertical-align: middle;\n",
       "    }\n",
       "\n",
       "    .dataframe tbody tr th {\n",
       "        vertical-align: top;\n",
       "    }\n",
       "\n",
       "    .dataframe thead th {\n",
       "        text-align: right;\n",
       "    }\n",
       "</style>\n",
       "<table border=\"1\" class=\"dataframe\">\n",
       "  <thead>\n",
       "    <tr style=\"text-align: right;\">\n",
       "      <th></th>\n",
       "      <th>A</th>\n",
       "      <th>B</th>\n",
       "      <th>C</th>\n",
       "      <th>Alpha</th>\n",
       "    </tr>\n",
       "  </thead>\n",
       "  <tbody>\n",
       "    <tr>\n",
       "      <th>0</th>\n",
       "      <td>-1.265860</td>\n",
       "      <td>2.197654</td>\n",
       "      <td>1</td>\n",
       "      <td>3.546143</td>\n",
       "    </tr>\n",
       "    <tr>\n",
       "      <th>1</th>\n",
       "      <td>0.530757</td>\n",
       "      <td>1.845370</td>\n",
       "      <td>1</td>\n",
       "      <td>0.588160</td>\n",
       "    </tr>\n",
       "    <tr>\n",
       "      <th>2</th>\n",
       "      <td>-1.683529</td>\n",
       "      <td>1.171040</td>\n",
       "      <td>1</td>\n",
       "      <td>5.384523</td>\n",
       "    </tr>\n",
       "    <tr>\n",
       "      <th>3</th>\n",
       "      <td>-0.590873</td>\n",
       "      <td>2.829825</td>\n",
       "      <td>1</td>\n",
       "      <td>1.805564</td>\n",
       "    </tr>\n",
       "    <tr>\n",
       "      <th>4</th>\n",
       "      <td>0.649101</td>\n",
       "      <td>2.740714</td>\n",
       "      <td>1</td>\n",
       "      <td>0.522515</td>\n",
       "    </tr>\n",
       "  </tbody>\n",
       "</table>\n",
       "</div>"
      ],
      "text/plain": [
       "          A         B  C     Alpha\n",
       "0 -1.265860  2.197654  1  3.546143\n",
       "1  0.530757  1.845370  1  0.588160\n",
       "2 -1.683529  1.171040  1  5.384523\n",
       "3 -0.590873  2.829825  1  1.805564\n",
       "4  0.649101  2.740714  1  0.522515"
      ]
     },
     "execution_count": 37,
     "metadata": {},
     "output_type": "execute_result"
    }
   ],
   "source": [
    "df.head()"
   ]
  },
  {
   "cell_type": "code",
   "execution_count": 38,
   "metadata": {},
   "outputs": [],
   "source": [
    "J = np.array(df)"
   ]
  },
  {
   "cell_type": "code",
   "execution_count": 39,
   "metadata": {},
   "outputs": [],
   "source": [
    "for i in range(0,50):\n",
    "    r = np.log(z_train)-np.log(c)-a*np.log(x_train+alpha)-b*np.log(y_train)\n",
    "    delta = np.dot(np.linalg.inv(np.dot(np.transpose(J),J)),np.dot(np.transpose(J),r))\n",
    "    params = params + delta\n",
    "    alpha = params[3]\n",
    "    a = params[0]\n",
    "    b = params[1]\n",
    "    c = params[2]\n",
    "    A = np.log(x_train+alpha)\n",
    "    B = np.log(y_train)\n",
    "    C = 1/c\n",
    "    Alpha = a/(x_train+alpha)\n",
    "    data = {\"A\":A,\"B\":B,\"C\":C,\"Alpha\":Alpha}\n",
    "    df = pd.DataFrame.from_dict(data)\n",
    "    J = np.array(df)\n",
    "    a_array.append(a)\n",
    "    b_array.append(b)\n",
    "    c_array.append(c)\n",
    "    alpha_array.append(alpha)\n",
    "    #print(\"a=\"+str(a)+\" b=\"+str(b)+\" c=\"+str(c)+\" alpha=\"+str(alpha))"
   ]
  },
  {
   "cell_type": "code",
   "execution_count": 66,
   "metadata": {},
   "outputs": [
    {
     "data": {
      "text/plain": [
       "array([1.98995865, 2.99992999, 2.03938319, 1.99001463])"
      ]
     },
     "execution_count": 66,
     "metadata": {},
     "output_type": "execute_result"
    }
   ],
   "source": [
    "z_pred = np.exp(np.log(c)+a*np.log(x_test+alpha)+b*np.log(y_test))\n",
    "params"
   ]
  },
  {
   "cell_type": "code",
   "execution_count": 41,
   "metadata": {},
   "outputs": [],
   "source": [
    "e = (z_pred - z_test)/(z_test)*100"
   ]
  },
  {
   "cell_type": "code",
   "execution_count": 42,
   "metadata": {},
   "outputs": [
    {
     "data": {
      "text/plain": [
       "0.36264890894126556"
      ]
     },
     "execution_count": 42,
     "metadata": {},
     "output_type": "execute_result"
    }
   ],
   "source": [
    "e.mean()"
   ]
  },
  {
   "cell_type": "code",
   "execution_count": 43,
   "metadata": {},
   "outputs": [
    {
     "data": {
      "text/plain": [
       "3.837076949953906"
      ]
     },
     "execution_count": 43,
     "metadata": {},
     "output_type": "execute_result"
    }
   ],
   "source": [
    "e.std()"
   ]
  },
  {
   "cell_type": "code",
   "execution_count": 44,
   "metadata": {},
   "outputs": [],
   "source": [
    "from scipy import stats"
   ]
  },
  {
   "cell_type": "code",
   "execution_count": 45,
   "metadata": {},
   "outputs": [],
   "source": [
    "k2, p = stats.normaltest(e)"
   ]
  },
  {
   "cell_type": "code",
   "execution_count": 56,
   "metadata": {},
   "outputs": [
    {
     "name": "stdout",
     "output_type": "stream",
     "text": [
      "0.16481172765382446 : Much higher than 0.05 0r 0.1 that we usually consider, hence can't reject Null hypothesis\n"
     ]
    }
   ],
   "source": [
    "p\n",
    "print(str(p)+\" : Much higher than 0.05 0r 0.1 that we usually consider, hence can't reject Null hypothesis\")"
   ]
  },
  {
   "cell_type": "code",
   "execution_count": 18,
   "metadata": {},
   "outputs": [],
   "source": [
    "df = {\"Real Values\":z_test,\"Predicted Values\":z_pred}\n",
    "df = pd.DataFrame(df)"
   ]
  },
  {
   "cell_type": "code",
   "execution_count": 51,
   "metadata": {},
   "outputs": [
    {
     "data": {
      "image/png": "[encoded data removed]",
      "text/plain": [
       "<Figure size 432x288 with 1 Axes>"
      ]
     },
     "metadata": {
      "needs_background": "light"
     },
     "output_type": "display_data"
    }
   ],
   "source": [
    "index_array = range(0,51)\n",
    "plt.plot(index_array,a_array)\n",
    "plt.xlabel(\"Iterations\")\n",
    "plt.ylabel(\"a Value\")\n",
    "plt.title(\"Convergence of a\")\n",
    "plt.show()"
   ]
  },
  {
   "cell_type": "code",
   "execution_count": 52,
   "metadata": {},
   "outputs": [
    {
     "data": {
      "image/png": "[encoded data removed]",
      "text/plain": [
       "<Figure size 432x288 with 1 Axes>"
      ]
     },
     "metadata": {
      "needs_background": "light"
     },
     "output_type": "display_data"
    }
   ],
   "source": [
    "index_array = range(0,51)\n",
    "plt.plot(index_array,b_array)\n",
    "plt.xlabel(\"Iterations\")\n",
    "plt.ylabel(\"b Value\")\n",
    "plt.title(\"Convergence of b\")\n",
    "plt.show()"
   ]
  },
  {
   "cell_type": "code",
   "execution_count": 53,
   "metadata": {},
   "outputs": [
    {
     "data": {
      "image/png": "[encoded data removed]",
      "text/plain": [
       "<Figure size 432x288 with 1 Axes>"
      ]
     },
     "metadata": {
      "needs_background": "light"
     },
     "output_type": "display_data"
    }
   ],
   "source": [
    "index_array = range(0,51)\n",
    "plt.plot(index_array,c_array)\n",
    "plt.xlabel(\"Iterations\")\n",
    "plt.ylabel(\"c Value\")\n",
    "plt.title(\"Convergence of c\")\n",
    "plt.show()"
   ]
  },
  {
   "cell_type": "code",
   "execution_count": 54,
   "metadata": {},
   "outputs": [
    {
     "data": {
      "image/png": "[encoded data removed]",
      "text/plain": [
       "<Figure size 432x288 with 1 Axes>"
      ]
     },
     "metadata": {
      "needs_background": "light"
     },
     "output_type": "display_data"
    }
   ],
   "source": [
    "index_array = range(0,51)\n",
    "plt.plot(index_array,alpha_array)\n",
    "plt.xlabel(\"Iterations\")\n",
    "plt.ylabel(\"alpha Value\")\n",
    "plt.title(\"Convergence of alpha\")\n",
    "plt.show()"
   ]
  },
  {
   "cell_type": "code",
   "execution_count": 20,
   "metadata": {},
   "outputs": [
    {
     "data": {
      "text/plain": [
       "<matplotlib.axes._subplots.AxesSubplot at 0x253800527b8>"
      ]
     },
     "execution_count": 20,
     "metadata": {},
     "output_type": "execute_result"
    },
    {
     "data": {
      "image/png": "[encoded data removed]",
      "text/plain": [
       "<Figure size 432x288 with 1 Axes>"
      ]
     },
     "metadata": {
      "needs_background": "light"
     },
     "output_type": "display_data"
    }
   ],
   "source": [
    "df.plot.scatter('Real Values','Predicted Values')"
   ]
  },
  {
   "cell_type": "code",
   "execution_count": 57,
   "metadata": {},
   "outputs": [],
   "source": [
    "from scipy.optimize import least_squares"
   ]
  },
  {
   "cell_type": "code",
   "execution_count": 58,
   "metadata": {},
   "outputs": [],
   "source": [
    "def fun(para,x,y,z):\n",
    "    return(z-para[2]*np.exp(para[0]*(x+para[3]))*np.exp(y*para[1]))"
   ]
  },
  {
   "cell_type": "code",
   "execution_count": 73,
   "metadata": {},
   "outputs": [],
   "source": [
    "res_lsq = least_squares(fun,np.ones(4),loss = \"soft_l1\" ,args=(x_train, y_train,z_train))"
   ]
  },
  {
   "cell_type": "code",
   "execution_count": 74,
   "metadata": {},
   "outputs": [
    {
     "data": {
      "text/plain": [
       " active_mask: array([0., 0., 0., 0.])\n",
       "        cost: 4176107.1558999307\n",
       "         fun: array([ 2.07848876e+03,  3.37207305e+03,  7.88614146e+01,  1.03016855e+04,\n",
       "        2.67988623e+04,  6.46332809e+03, -1.67147011e+04,  1.62989110e+04,\n",
       "        1.26866344e+03, -1.86404050e+04,  1.39156960e+04,  1.66186458e+04,\n",
       "        2.30576051e+03,  7.45824254e+02,  1.94544722e+02,  6.95903932e+03,\n",
       "        2.09684113e+03,  8.93438107e+03,  3.09885686e+03,  3.74280383e+03,\n",
       "        1.13019828e+03,  7.36386232e+03,  1.71400401e+03,  2.04346913e+04,\n",
       "        2.63874054e+04,  1.54043561e+04,  2.50401290e+04,  2.05715818e+04,\n",
       "       -2.81241196e+00,  1.12871094e+03,  1.18686324e+04,  6.62519386e+03,\n",
       "        1.19307559e+03,  3.17525186e+03,  3.25840007e+04, -1.12520321e+03,\n",
       "        1.99122876e+03,  8.46136853e+03,  4.98494226e+03,  9.68485371e+03,\n",
       "        3.25965248e+04,  1.01714335e+04, -1.97122106e+04,  1.35424473e+02,\n",
       "        5.11431862e+03,  1.13771771e+04,  9.90610393e+02,  5.32302455e+01,\n",
       "        1.36082907e+04,  3.02536811e+01,  6.87890304e+03,  3.08029775e+04,\n",
       "        3.53563757e+02,  2.75839966e+03,  1.01986014e+04,  4.48110585e+03,\n",
       "        1.68311523e+04,  8.10360061e+01,  3.04843419e+03,  1.57249790e+03,\n",
       "        1.18844013e+03,  4.03651054e+03,  5.64487877e+03, -1.94015093e+02,\n",
       "        5.07041563e+01,  6.68401039e+03,  2.04152386e+04,  2.48536941e+03,\n",
       "        2.57067607e+03,  1.10178368e+04,  1.01270899e+03,  5.89018731e+02,\n",
       "        7.61234618e+03,  1.70745914e+04,  8.55876162e+02,  4.24449473e+02,\n",
       "        6.15124675e+03,  2.07642734e+04,  1.74099317e+04,  1.07009570e+04,\n",
       "        2.05889675e+03,  4.33293625e+02,  1.89345441e+04,  7.48801052e+03,\n",
       "        1.13410344e+04,  1.97647187e+02,  1.61730617e+03,  2.67025329e+03,\n",
       "        4.47356601e+02,  3.03086559e+03,  8.04972596e+03,  4.01910383e+02,\n",
       "        8.52462852e+03,  3.78066405e+03,  2.80089369e+04,  2.65779865e+04,\n",
       "        1.12322857e+02,  9.19338337e+03,  9.80060666e+01,  1.15027423e+04,\n",
       "        6.88452970e+03,  4.70575677e+03,  1.24392856e+04,  2.65147488e+04,\n",
       "        3.12957661e+03,  1.67284387e+04, -6.05658613e+04,  4.88408471e+02,\n",
       "        1.16651455e+04,  9.02086213e+02,  8.49808946e+03,  1.05440357e+03,\n",
       "        7.83368007e+03,  4.72046028e+03,  1.78796485e+04,  7.87431263e+01,\n",
       "        2.55294806e+04,  2.28355416e+04,  7.04957883e+02,  2.21999507e+04,\n",
       "        6.89443199e+03,  1.03897632e+04,  7.18402503e+03,  2.04273116e+04,\n",
       "        1.18048331e+04, -4.64840564e+02,  3.34736362e+03,  1.17407860e+04,\n",
       "        2.97711954e+03,  1.67242092e+03,  1.82776223e+04,  7.66299869e+02,\n",
       "        4.16696779e+03,  2.92214283e+03,  7.85643876e+03,  6.52133789e+03,\n",
       "        1.37161825e+03,  3.81757547e+03, -5.52163819e+03,  1.22260087e+03,\n",
       "        2.22454717e+03,  9.29327374e+02,  4.07726441e+03,  1.11240154e+04,\n",
       "        1.03240553e+04,  5.53161367e+03,  7.83733640e+03,  7.93826852e+02,\n",
       "        1.25132128e+03,  1.74705916e+04,  3.99885010e+02,  6.00253501e+02,\n",
       "        2.68962461e+04,  5.65603760e+03,  1.11634051e+04,  4.16399028e+03,\n",
       "        5.86124657e+03,  4.43896377e+02,  3.35277448e+02,  2.92296899e+03,\n",
       "        4.55255236e+03,  5.86469402e+03,  1.47099651e+03,  5.53953121e+03,\n",
       "        1.31429525e+04,  2.03883800e+04,  1.61408297e+04,  8.60491944e+03,\n",
       "        7.99041051e+03,  3.66585138e+02,  9.62973331e+01, -6.65287613e+04,\n",
       "        1.91837699e+04,  2.09048256e+04,  1.58425497e+03,  1.16378885e+04,\n",
       "       -5.95415527e+04,  7.46106184e+03,  1.14822717e+04,  9.86170267e+03,\n",
       "        1.15729389e+04,  5.71842442e+03,  1.00048169e+04,  6.47505087e+03,\n",
       "        6.70460511e+03,  3.71197642e+03,  2.27003941e+04,  4.05757199e+02,\n",
       "        3.87366903e+03,  1.58493013e+04,  1.77096638e+01,  2.14480641e+04,\n",
       "       -3.04317189e+03,  8.04454541e+02,  8.61210874e+02,  5.22352832e+03,\n",
       "        7.41347522e+03,  3.56069051e+01,  1.13913416e+04,  1.59445769e+04,\n",
       "        1.17019753e+03,  3.98836249e+02,  8.75523882e+03,  6.70553428e+03,\n",
       "        9.54487586e+02,  3.64297182e+02,  1.00333907e+03,  1.05237949e+04,\n",
       "        1.71318698e+04,  6.68342794e+03,  7.94303109e+03,  2.16013773e+04,\n",
       "        1.28068731e+04,  1.73770874e+03,  9.22146433e+03,  5.63032365e+03,\n",
       "        2.87679420e+03,  5.49498319e+02,  2.72226054e+03,  1.97996543e+03,\n",
       "        1.21210372e+03,  1.85263314e+04,  1.34870091e+04,  1.67841897e+03,\n",
       "        5.42957464e+02,  2.89522792e+02,  4.82822268e+03,  7.43741944e+03,\n",
       "        2.07840376e+04,  5.04972209e+03,  1.92296802e+03,  4.73224779e+03,\n",
       "        1.76208152e+03,  8.04471785e+03,  7.29015473e+03,  1.18142145e+04,\n",
       "        4.22020073e+03,  1.93703831e+04,  5.04209855e+03,  1.91978808e+04,\n",
       "       -1.08585051e+04,  3.68995680e+03,  7.50642157e+02, -7.57151443e+02,\n",
       "        1.18997630e+04,  8.83621791e+02,  4.16517723e+03,  3.97905048e+02,\n",
       "        7.57996644e+03,  9.12924668e+03,  8.50997489e+03,  7.10613566e+03,\n",
       "        9.23355518e+03,  9.78272870e+01,  1.43783852e+04,  1.92031249e+04,\n",
       "        1.75162798e+02, -6.63697322e+03,  1.76629414e+04,  3.32614480e+04,\n",
       "        1.26511876e+03,  2.36392510e+04,  1.08528715e+04,  1.23511958e+04,\n",
       "        1.77221455e+04,  2.54780765e+03,  4.39463712e+03,  2.95405457e+03,\n",
       "        1.47536878e+03,  5.72040655e+03,  2.75774657e+03,  2.18622907e+04,\n",
       "        6.82964616e+03,  3.98812574e+03,  7.69752379e+03,  1.45153531e+02,\n",
       "        3.12661307e+02,  8.37323919e+02,  4.89698150e+03,  1.00669343e+04,\n",
       "        1.54787941e+04,  9.81375506e+03,  3.56622943e+03,  8.05369540e+01,\n",
       "        2.39091997e+03,  3.92960183e+02, -3.04023852e+02, -1.01269333e+04,\n",
       "        7.44075859e+02,  8.79877619e+03,  2.55518486e+04,  5.82531532e+01,\n",
       "        2.41463993e+04,  1.69336775e+04,  3.46558517e+03,  1.94621988e+02,\n",
       "        7.76088829e+03,  4.47873533e+03,  6.48048648e+03,  4.87275201e+03,\n",
       "        6.91049304e+01,  2.10405807e+03,  3.70466626e+03,  2.13120943e+02,\n",
       "        1.06555044e+04,  9.39209321e+03,  7.31225793e+03,  1.75603062e+04,\n",
       "        8.41289033e+03,  8.24162329e+03,  5.67902211e+01,  2.79052937e+03,\n",
       "        3.13777052e+03,  3.40337648e+04,  1.82747386e+04,  3.25854035e+03,\n",
       "        8.57235532e+02,  1.73123165e+03,  1.04160062e+03,  2.10008503e+03,\n",
       "        5.57730391e+01,  2.55447488e+03,  7.00208629e+01, -1.19747088e+04,\n",
       "        1.33035913e+04,  2.54827933e+03,  2.53098650e+02, -2.96397386e+03,\n",
       "        2.83371169e+01,  2.99668555e+03,  2.28560944e+04,  1.51506786e+03,\n",
       "        3.24952642e+03,  8.43029186e+03,  2.49447683e+03,  9.47330531e+01,\n",
       "        1.63281567e+04,  1.61155176e+02,  1.87579329e+04,  1.94419514e+04,\n",
       "        1.67109422e+04,  8.39869678e+03,  2.92932043e+03,  2.72548235e+03,\n",
       "        5.52107970e+01,  5.13415781e+03,  2.86502977e+02,  1.30951028e+04,\n",
       "        4.77493413e+03,  4.40169190e+03,  1.71565698e+03,  3.16139450e+02,\n",
       "       -1.62092106e+03,  4.13166821e+03,  7.64866752e+02,  2.45357061e+04,\n",
       "        1.87465715e+04,  1.13519804e+04,  1.14978099e+04, -1.63602853e+04,\n",
       "        3.41139011e+03, -4.93299644e+04, -3.83615721e+04,  1.54705230e+04,\n",
       "        1.95880337e+04,  1.02566534e+04,  2.95799492e+04,  6.89299638e+03,\n",
       "        2.19153227e+04,  1.28582939e+04,  3.35168597e+03,  5.80763818e+02,\n",
       "        5.43355654e+02,  3.35307225e+03,  1.42837058e+04,  8.34737298e+02,\n",
       "        5.62011158e+02,  3.74382238e+03,  8.51168452e+03,  2.91593843e+03,\n",
       "        9.58740124e+02,  1.40956444e+04,  5.03433801e+01,  1.98343789e+02,\n",
       "        6.29300445e+03,  1.14916297e+04,  1.64162286e+02,  5.34491245e+03,\n",
       "        9.65094830e+03,  4.99899145e+03,  1.18383012e+03,  7.28017119e+01,\n",
       "        4.59606869e+03,  7.76670251e+03,  1.17642209e+04,  1.04200965e+04,\n",
       "        8.67817688e+01,  3.55419682e+03,  9.70339345e+03,  3.47455859e+03,\n",
       "        5.96018862e+02, -5.16052056e+03,  6.97654603e+01,  9.58792613e+02,\n",
       "        1.63033426e+04, -1.89411247e+01, -3.03558503e+04,  2.49769456e+03,\n",
       "        1.41955661e+03,  3.16647979e+03,  2.37131033e+04,  1.61962663e+04,\n",
       "        1.67939441e+04,  1.85367066e+04,  3.21448431e+02,  5.01207169e+03,\n",
       "        6.44973709e+03,  3.06842418e+02,  1.04559158e+04,  5.96139744e+03,\n",
       "        1.11578802e+04,  6.30914020e+02,  7.88776571e+03,  2.28820427e+03,\n",
       "        2.80976044e+03,  1.39739582e+04,  2.21717150e+03,  9.62764838e+01,\n",
       "        2.04334520e+04,  9.28567505e+03,  3.67200949e+03,  7.76246486e+02,\n",
       "        1.87709876e+03,  7.70823043e+03,  9.79684810e+03,  1.39122316e+04,\n",
       "        9.90530824e+02,  2.63738311e+04,  9.21370097e+03,  1.54881672e+04,\n",
       "        4.27783596e+03,  1.05141198e+04,  1.69387996e+03,  3.89569481e+02,\n",
       "        2.94325118e+03,  2.42392556e+03, -6.73765610e+04,  2.36932330e+04,\n",
       "        1.06599482e+04,  1.02082149e+04,  1.17399373e+04,  8.51936856e+03,\n",
       "        6.31255661e+03,  6.00615184e+03,  2.55604633e+03,  2.97847333e+04,\n",
       "        1.10943924e+04,  4.12830475e+03,  3.51023449e+03,  2.96759862e+02,\n",
       "        2.90940733e+02,  9.13930070e+03,  1.77266332e+04,  1.02517950e+02,\n",
       "        1.24484868e+04,  5.86978162e+03,  1.61462189e+03,  2.36427492e+03,\n",
       "        1.11788295e+04,  9.11088544e+02,  7.67922762e+03,  1.96958773e+03,\n",
       "        1.66125116e+04,  1.33041136e+04,  9.30678490e+03,  1.26280786e+04,\n",
       "        4.49611248e+03,  2.03127260e+03,  6.52456022e+01,  1.11965507e+03,\n",
       "        5.85685373e+03, -5.15836310e+03,  1.56524915e+04,  2.31429791e+04,\n",
       "        1.03993733e+02,  1.20644621e+02,  8.58379246e+03,  4.54329451e+02,\n",
       "        1.15770708e+04,  1.70919999e+03,  1.55391890e+03,  1.56244150e+02,\n",
       "       -2.98773934e+04,  2.26556361e+04,  1.59892460e+04,  1.76648244e+04,\n",
       "        8.50083605e+03, -6.64201454e+04,  4.12420690e+03,  4.03279895e+02])\n",
       "        grad: array([  17426.66188663, 1212279.1445702 , -279056.12084776,\n",
       "       -524218.9302261 ])\n",
       "         jac: array([[-0.00273072, -0.0249689 , -0.00181381, -0.00340732],\n",
       "       [-0.0057228 , -0.01507654, -0.00155772, -0.00292624],\n",
       "       [-0.02366991, -0.08593099, -0.01742588, -0.03273527],\n",
       "       ...,\n",
       "       [-0.028185  , -0.22838329, -0.00747994, -0.01405138],\n",
       "       [-0.00353098, -0.05859753, -0.00294291, -0.00552839],\n",
       "       [-0.00952089, -0.02706945, -0.00432778, -0.00812993]])\n",
       "     message: 'The maximum number of function evaluations is exceeded.'\n",
       "        nfev: 400\n",
       "        njev: 355\n",
       "  optimality: 1212279.1445701998\n",
       "      status: 0\n",
       "     success: False\n",
       "           x: array([1.22869033, 0.43724155, 1.52889866, 1.70271216])"
      ]
     },
     "execution_count": 74,
     "metadata": {},
     "output_type": "execute_result"
    }
   ],
   "source": [
    "res_lsq"
   ]
  },
  {
   "cell_type": "code",
   "execution_count": null,
   "metadata": {},
   "outputs": [],
   "source": []
  }
 ],
 "metadata": {
  "kernelspec": {
   "display_name": "Python 3",
   "language": "python",
   "name": "python3"
  },
  "language_info": {
   "codemirror_mode": {
    "name": "ipython",
    "version": 3
   },
   "file_extension": ".py",
   "mimetype": "text/x-python",
   "name": "python",
   "nbconvert_exporter": "python",
   "pygments_lexer": "ipython3",
   "version": "3.6.8"
  }
 },
 "nbformat": 4,
 "nbformat_minor": 2
}
