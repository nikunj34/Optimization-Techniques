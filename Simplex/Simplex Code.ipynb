{
 "cells": [
  {
   "cell_type": "code",
   "execution_count": 5,
   "metadata": {},
   "outputs": [],
   "source": [
    "import numpy as np\n",
    "import pandas as pd\n",
    "from matplotlib import pyplot as plt\n",
    "%matplotlib inline"
   ]
  },
  {
   "cell_type": "code",
   "execution_count": 12,
   "metadata": {},
   "outputs": [
    {
     "name": "stdout",
     "output_type": "stream",
     "text": [
      "Enter value of m: 1000\n"
     ]
    }
   ],
   "source": [
    "mat = pd.read_csv(\"mat9.csv\",header = None)\n",
    "coef = pd.read_csv(\"mat10.csv\",header = None)\n",
    "mat1 = np.array(mat)\n",
    "coef = np.array(coef)\n",
    "mat = mat1[:,:-1]\n",
    "ans = mat1[:,-1]\n",
    "coef = coef[0]\n",
    "ind = []\n",
    "m = float(input(\"Enter value of m: \"))\n",
    "for i in range(mat.shape[0]):\n",
    "    temp = np.zeros(mat.shape[0])\n",
    "    temp[i] = 1.0\n",
    "    temp = np.array([temp])\n",
    "    mat = np.append(mat,temp.T,axis=1)\n",
    "    ind.append(mat.shape[1]-1)\n",
    "    coef = np.append(coef,0)\n",
    "    if ans[i]<0:\n",
    "        mat[i,:]=-1*mat[i,:]\n",
    "        ans[i] = -ans[i]\n",
    "        mat = np.append(mat,temp.T,axis=1)\n",
    "        ind[-1] = mat.shape[1]-1\n",
    "        coef = np.append(coef,-m)\n",
    "mat = mat.astype(float)\n",
    "coef = coef.astype(float)"
   ]
  },
  {
   "cell_type": "code",
   "execution_count": 13,
   "metadata": {},
   "outputs": [
    {
     "data": {
      "text/plain": [
       "array([   -4.,    -1.,     0., -1000.,     0., -1000.])"
      ]
     },
     "execution_count": 13,
     "metadata": {},
     "output_type": "execute_result"
    }
   ],
   "source": [
    "coef"
   ]
  },
  {
   "cell_type": "code",
   "execution_count": 14,
   "metadata": {},
   "outputs": [
    {
     "name": "stdout",
     "output_type": "stream",
     "text": [
      "[ 7996.  7999. -1000.     0. -1000.     0.]\n",
      "[[ 7.  2. -1.  1.  0.  0.]\n",
      " [ 1.  6. -0. -0. -1.  1.]]\n"
     ]
    }
   ],
   "source": [
    "z = np.dot(coef[ind],mat)\n",
    "dec = coef - z\n",
    "print(dec)\n",
    "print(mat)"
   ]
  },
  {
   "cell_type": "code",
   "execution_count": 9,
   "metadata": {},
   "outputs": [
    {
     "name": "stdout",
     "output_type": "stream",
     "text": [
      "Mat = \n",
      "          0    1    2    3         4         5\n",
      "0  6.666667  0.0 -1.0  1.0  0.333333 -0.333333\n",
      "1  0.166667  1.0 -0.0 -0.0 -0.166667  0.166667\n",
      "Dec = \n",
      "[ 6662.83333333     0.         -1000.             0.\n",
      "   333.16666667 -1333.16666667]\n",
      "ans = \n",
      "[24.  2.]\n",
      "ind = \n",
      "[3, 1]\n",
      "Mat = \n",
      "     0    1      2      3      4      5\n",
      "0  1.0  0.0 -0.150  0.150  0.050 -0.050\n",
      "1  0.0  1.0  0.025 -0.025 -0.175  0.175\n",
      "Dec = \n",
      "[ 0.000000e+00  0.000000e+00 -5.750000e-01 -9.994250e+02  2.500000e-02\n",
      " -1.000025e+03]\n",
      "ans = \n",
      "[3.6 1.4]\n",
      "ind = \n",
      "[0, 1]\n",
      "Mat = \n",
      "      0    1    2    3    4    5\n",
      "0  20.0  0.0 -3.0  3.0  1.0 -1.0\n",
      "1   3.5  1.0 -0.5  0.5  0.0  0.0\n",
      "Dec = \n",
      "[-5.000e-01  0.000e+00 -5.000e-01 -9.995e+02  0.000e+00 -1.000e+03]\n",
      "ans = \n",
      "[72. 14.]\n",
      "ind = \n",
      "[4, 1]\n"
     ]
    }
   ],
   "source": [
    "while max(dec)>0:\n",
    "    incoming = np.where(dec == max(dec))[0][0]\n",
    "    divider = (mat[:,incoming])\n",
    "    divider[divider==0] = 10**-8\n",
    "    incd = (ans/divider)\n",
    "    incd[divider<0] = 10**12\n",
    "    outgoing = np.where(incd == min(incd))[0][0]\n",
    "    ind[outgoing] = incoming\n",
    "    ans = ans - min(incd)*mat[:,incoming]\n",
    "    ans[outgoing] = min(incd)\n",
    "    mat[outgoing,:]=mat[outgoing,:]/(mat[outgoing,incoming])\n",
    "    for i in range(mat.shape[0]):\n",
    "        if i!=outgoing:\n",
    "            mat[i] = mat[i] - mat[i,incoming]*mat[outgoing]\n",
    "    z = np.dot(coef[ind],mat)\n",
    "    print(\"Mat = \")\n",
    "    print(pd.DataFrame(mat))\n",
    "    dec = coef - z\n",
    "    print(\"Dec = \")\n",
    "    print(dec)\n",
    "    print(\"ans = \")\n",
    "    print(ans)\n",
    "    print(\"ind = \")\n",
    "    print(ind)"
   ]
  },
  {
   "cell_type": "code",
   "execution_count": 10,
   "metadata": {},
   "outputs": [
    {
     "data": {
      "text/plain": [
       "[4, 1]"
      ]
     },
     "execution_count": 10,
     "metadata": {},
     "output_type": "execute_result"
    }
   ],
   "source": [
    "ind"
   ]
  },
  {
   "cell_type": "code",
   "execution_count": 11,
   "metadata": {},
   "outputs": [
    {
     "data": {
      "text/plain": [
       "array([-5.000e-01,  0.000e+00, -5.000e-01, -9.995e+02,  0.000e+00,\n",
       "       -1.000e+03])"
      ]
     },
     "execution_count": 11,
     "metadata": {},
     "output_type": "execute_result"
    }
   ],
   "source": [
    "dec"
   ]
  },
  {
   "cell_type": "code",
   "execution_count": 9,
   "metadata": {},
   "outputs": [
    {
     "data": {
      "text/plain": [
       "array([2.00000001, 4.00000004, 2.99999999, 4.00000001, 3.99999998,\n",
       "       1.00000002, 3.33333332, 3.66666672])"
      ]
     },
     "execution_count": 9,
     "metadata": {},
     "output_type": "execute_result"
    }
   ],
   "source": [
    "ans"
   ]
  },
  {
   "cell_type": "code",
   "execution_count": 10,
   "metadata": {},
   "outputs": [
    {
     "data": {
      "text/plain": [
       "(8, 17)"
      ]
     },
     "execution_count": 10,
     "metadata": {},
     "output_type": "execute_result"
    }
   ],
   "source": [
    "mat.shape"
   ]
  },
  {
   "cell_type": "code",
   "execution_count": 11,
   "metadata": {},
   "outputs": [
    {
     "data": {
      "text/plain": [
       "array([[ 0.00000000e+00,  0.00000000e+00,  0.00000000e+00,\n",
       "        -1.66666669e-09,  1.00000000e+00,  0.00000000e+00,\n",
       "         0.00000000e+00, -3.33333332e-01, -5.00000001e-01,\n",
       "         5.00000001e-01,  0.00000000e+00,  0.00000000e+00,\n",
       "         0.00000000e+00,  0.00000000e+00,  0.00000000e+00,\n",
       "         0.00000000e+00, -1.66666670e-01],\n",
       "       [ 0.00000000e+00,  0.00000000e+00,  0.00000000e+00,\n",
       "        -3.33333344e-09,  0.00000000e+00,  1.00000000e+00,\n",
       "        -1.00000000e+00,  3.33333331e-01, -1.00000001e+00,\n",
       "         1.00000001e+00,  0.00000000e+00,  0.00000000e+00,\n",
       "         0.00000000e+00,  0.00000000e+00,  0.00000000e+00,\n",
       "         0.00000000e+00, -3.33333326e-01],\n",
       "       [ 0.00000000e+00,  0.00000000e+00,  0.00000000e+00,\n",
       "         3.33333332e-09,  0.00000000e+00,  0.00000000e+00,\n",
       "         0.00000000e+00, -3.33333336e-01, -9.99999999e-01,\n",
       "         9.99999999e-01,  0.00000000e+00,  1.00000000e+00,\n",
       "        -1.00000000e+00,  0.00000000e+00,  0.00000000e+00,\n",
       "         0.00000000e+00,  3.33333331e-01],\n",
       "       [ 0.00000000e+00,  0.00000000e+00,  0.00000000e+00,\n",
       "        -3.33333338e-09,  0.00000000e+00,  0.00000000e+00,\n",
       "         0.00000000e+00, -6.66666664e-01, -1.22017685e-09,\n",
       "         1.22017685e-09,  1.00000000e+00,  0.00000000e+00,\n",
       "         0.00000000e+00,  0.00000000e+00,  0.00000000e+00,\n",
       "         0.00000000e+00, -3.33333346e-01],\n",
       "       [ 0.00000000e+00,  0.00000000e+00,  0.00000000e+00,\n",
       "         6.66666665e-09,  0.00000000e+00,  0.00000000e+00,\n",
       "         0.00000000e+00, -6.66666672e-01, -9.99999998e-01,\n",
       "         9.99999998e-01,  0.00000000e+00,  0.00000000e+00,\n",
       "         0.00000000e+00,  0.00000000e+00,  1.00000000e+00,\n",
       "        -1.00000000e+00,  6.66666663e-01],\n",
       "       [ 0.00000000e+00,  0.00000000e+00,  0.00000000e+00,\n",
       "        -6.66666670e-09,  0.00000000e+00,  0.00000000e+00,\n",
       "         0.00000000e+00, -3.33333328e-01, -2.44035386e-09,\n",
       "         2.44035386e-09,  0.00000000e+00,  0.00000000e+00,\n",
       "         0.00000000e+00,  1.00000000e+00,  0.00000000e+00,\n",
       "         0.00000000e+00, -6.66666674e-01],\n",
       "       [ 1.00000000e+00, -1.00000000e+00,  0.00000000e+00,\n",
       "         1.11111110e-09,  0.00000000e+00,  0.00000000e+00,\n",
       "         0.00000000e+00, -1.11111111e-01,  2.26937077e-09,\n",
       "        -2.26937077e-09, -0.00000000e+00,  0.00000000e+00,\n",
       "         0.00000000e+00, -0.00000000e+00,  0.00000000e+00,\n",
       "         0.00000000e+00,  1.11111109e-01],\n",
       "       [ 0.00000000e+00,  0.00000000e+00,  1.00000000e+00,\n",
       "        -1.00000000e+00,  0.00000000e+00,  0.00000000e+00,\n",
       "         0.00000000e+00,  7.77777773e-01, -5.00000012e-01,\n",
       "         5.00000012e-01,  0.00000000e+00,  0.00000000e+00,\n",
       "         0.00000000e+00,  0.00000000e+00,  0.00000000e+00,\n",
       "         0.00000000e+00, -2.77777761e-01]])"
      ]
     },
     "execution_count": 11,
     "metadata": {},
     "output_type": "execute_result"
    }
   ],
   "source": [
    "mat"
   ]
  },
  {
   "cell_type": "code",
   "execution_count": 12,
   "metadata": {},
   "outputs": [],
   "source": [
    "# Comparing Solution of best fit line by minimizing L2 norm(least squares) and Linfinity norm"
   ]
  },
  {
   "cell_type": "code",
   "execution_count": 13,
   "metadata": {},
   "outputs": [],
   "source": [
    "X = np.array([[1,1],[4,1],[7,1],[10,1]])\n",
    "Y = np.array([5,19,26,35])"
   ]
  },
  {
   "cell_type": "code",
   "execution_count": 14,
   "metadata": {},
   "outputs": [],
   "source": [
    "inv = np.linalg.inv(np.dot(np.transpose(X),X))\n",
    "ans = np.dot(inv,np.dot(np.transpose(X),Y))"
   ]
  },
  {
   "cell_type": "code",
   "execution_count": 15,
   "metadata": {},
   "outputs": [
    {
     "data": {
      "text/plain": [
       "3.4666666666666686"
      ]
     },
     "execution_count": 15,
     "metadata": {},
     "output_type": "execute_result"
    }
   ],
   "source": [
    "x = np.linspace(0,15)\n",
    "ans[1]"
   ]
  },
  {
   "cell_type": "code",
   "execution_count": 61,
   "metadata": {},
   "outputs": [],
   "source": [
    "y1 = ans[0]*x + ans[1]\n",
    "y2 = 3.33333332*x + 3.66666672"
   ]
  },
  {
   "cell_type": "code",
   "execution_count": 62,
   "metadata": {},
   "outputs": [
    {
     "data": {
      "image/png": "[encoded data removed]",
      "text/plain": [
       "<Figure size 432x288 with 1 Axes>"
      ]
     },
     "metadata": {
      "needs_background": "light"
     },
     "output_type": "display_data"
    }
   ],
   "source": [
    "plt.plot(x,y1,label = \"Minimizing L2 norm\")\n",
    "plt.plot([1,4,7,10],Y,\"bo\")\n",
    "plt.xlabel(\"Number of Weeks\")\n",
    "plt.ylabel(\"Words per minute\")\n",
    "plt.legend()\n",
    "plt.show()"
   ]
  },
  {
   "cell_type": "code",
   "execution_count": 63,
   "metadata": {},
   "outputs": [
    {
     "data": {
      "image/png": "[encoded data removed]",
      "text/plain": [
       "<Figure size 432x288 with 1 Axes>"
      ]
     },
     "metadata": {
      "needs_background": "light"
     },
     "output_type": "display_data"
    }
   ],
   "source": [
    "plt.plot(x,y2,label = \"Minimizing Linf norm\")\n",
    "plt.plot([1,4,7,10],Y,\"bo\")\n",
    "plt.xlabel(\"Number of Weeks\")\n",
    "plt.ylabel(\"Words per minute\")\n",
    "plt.legend()\n",
    "plt.show()"
   ]
  },
  {
   "cell_type": "code",
   "execution_count": 64,
   "metadata": {},
   "outputs": [
    {
     "data": {
      "image/png": "[encoded data removed]",
      "text/plain": [
       "<Figure size 432x288 with 1 Axes>"
      ]
     },
     "metadata": {
      "needs_background": "light"
     },
     "output_type": "display_data"
    }
   ],
   "source": [
    "plt.plot(x,y1,label = \"Minimizing L2 norm\")\n",
    "plt.plot(x,y2,label = \"Minimizing Linf norm\")\n",
    "plt.plot([1,4,7,10],Y,\"bo\")\n",
    "plt.xlabel(\"Number of Weeks\")\n",
    "plt.ylabel(\"Words per minute\")\n",
    "plt.legend()\n",
    "plt.show()"
   ]
  },
  {
   "cell_type": "code",
   "execution_count": 24,
   "metadata": {},
   "outputs": [],
   "source": [
    "x = np.linspace(0,20,50)\n",
    "y = np.linspace(0,20,50)\n",
    "z = np.identity(50)\n",
    "for i in range(0,50):\n",
    "    for j in range(0,50):\n",
    "        if x[i]>10 and y[j] < 5:\n",
    "            z[i,j] = (x[i]**2+y[j]**2)\n",
    "        else:\n",
    "            z[i,j] = (x[i]**2+2*y[j])"
   ]
  },
  {
   "cell_type": "code",
   "execution_count": 11,
   "metadata": {},
   "outputs": [],
   "source": [
    "from mpl_toolkits import mplot3d"
   ]
  },
  {
   "cell_type": "code",
   "execution_count": 23,
   "metadata": {},
   "outputs": [
    {
     "data": {
      "text/plain": [
       "2500"
      ]
     },
     "execution_count": 23,
     "metadata": {},
     "output_type": "execute_result"
    }
   ],
   "source": [
    "%matplotlib inline\n",
    "import numpy as np\n",
    "import matplotlib.pyplot as plt\n",
    "len(z)"
   ]
  },
  {
   "cell_type": "code",
   "execution_count": 25,
   "metadata": {},
   "outputs": [],
   "source": [
    "from mpl_toolkits.mplot3d import Axes3D\n",
    "import matplotlib.pyplot as plt\n",
    "import numpy as np"
   ]
  },
  {
   "cell_type": "code",
   "execution_count": 26,
   "metadata": {},
   "outputs": [],
   "source": [
    "X,Y = np.meshgrid(x,y)"
   ]
  },
  {
   "cell_type": "code",
   "execution_count": 28,
   "metadata": {},
   "outputs": [
    {
     "data": {
      "image/png": "[encoded data removed]",
      "text/plain": [
       "<Figure size 432x288 with 1 Axes>"
      ]
     },
     "metadata": {
      "needs_background": "light"
     },
     "output_type": "display_data"
    }
   ],
   "source": [
    "fig = plt.figure()\n",
    "ax = fig.gca(projection='3d')\n",
    "surf = ax.plot_surface(X, Y, z, rstride=1, cstride=1, cmap='hot', linewidth=0, antialiased=False)"
   ]
  },
  {
   "cell_type": "code",
   "execution_count": 79,
   "metadata": {},
   "outputs": [],
   "source": [
    "a = np.array([0,0])"
   ]
  },
  {
   "cell_type": "code",
   "execution_count": 80,
   "metadata": {},
   "outputs": [
    {
     "data": {
      "text/plain": [
       "array([[ 1,  1],\n",
       "       [ 4,  1],\n",
       "       [ 7,  1],\n",
       "       [10,  1]])"
      ]
     },
     "execution_count": 80,
     "metadata": {},
     "output_type": "execute_result"
    }
   ],
   "source": [
    "X"
   ]
  },
  {
   "cell_type": "code",
   "execution_count": 81,
   "metadata": {},
   "outputs": [
    {
     "data": {
      "text/plain": [
       "array([ 5, 19, 26, 35])"
      ]
     },
     "execution_count": 81,
     "metadata": {},
     "output_type": "execute_result"
    }
   ],
   "source": [
    "Y"
   ]
  },
  {
   "cell_type": "code",
   "execution_count": 82,
   "metadata": {},
   "outputs": [
    {
     "data": {
      "text/plain": [
       "array([1.226, 0.17 ])"
      ]
     },
     "execution_count": 82,
     "metadata": {},
     "output_type": "execute_result"
    }
   ],
   "source": [
    "2*np.dot(np.dot(X.T,X),a) - 2*np.dot(X.T,Y)\n",
    "a = a-0.001*(2*np.dot(np.dot(X.T,X),a) - 2*np.dot(X.T,Y))\n",
    "a"
   ]
  },
  {
   "cell_type": "code",
   "execution_count": 83,
   "metadata": {},
   "outputs": [],
   "source": [
    "for i in range(100):\n",
    "    a = a - 0.002*(2*np.dot(np.dot(X.T,X),a) - 2*np.dot(X.T,Y))"
   ]
  },
  {
   "cell_type": "code",
   "execution_count": 84,
   "metadata": {},
   "outputs": [
    {
     "data": {
      "text/plain": [
       "array([3.23887726, 3.42510371])"
      ]
     },
     "execution_count": 84,
     "metadata": {},
     "output_type": "execute_result"
    }
   ],
   "source": [
    "a"
   ]
  },
  {
   "cell_type": "code",
   "execution_count": null,
   "metadata": {},
   "outputs": [],
   "source": []
  }
 ],
 "metadata": {
  "kernelspec": {
   "display_name": "Python 3",
   "language": "python",
   "name": "python3"
  },
  "language_info": {
   "codemirror_mode": {
    "name": "ipython",
    "version": 3
   },
   "file_extension": ".py",
   "mimetype": "text/x-python",
   "name": "python",
   "nbconvert_exporter": "python",
   "pygments_lexer": "ipython3",
   "version": "3.6.8"
  }
 },
 "nbformat": 4,
 "nbformat_minor": 2
}
