{
 "cells": [
  {
   "cell_type": "code",
   "execution_count": 17,
   "metadata": {},
   "outputs": [],
   "source": [
    "import numpy as np\n",
    "import pandas as pd\n",
    "from matplotlib import pyplot as plt\n",
    "%matplotlib inline"
   ]
  },
  {
   "cell_type": "code",
   "execution_count": 2,
   "metadata": {},
   "outputs": [],
   "source": [
    "mat = pd.read_csv(\"matrix4.csv\",header = None)\n",
    "coef = pd.read_csv(\"coef4.csv\",header = None)\n",
    "mat1 = np.array(mat)\n",
    "coef = np.array(coef)\n",
    "mat1 = mat1.astype(float)\n",
    "coef = coef.astype(float)\n",
    "mat = mat1[:,:-1]\n",
    "ans = mat1[:,-1]\n",
    "coef = coef[0]\n",
    "ind = np.array(range(mat.shape[1]-mat.shape[0],mat.shape[1]))\n",
    "ind = np.array([6,7,9,10,12,13,15,16])"
   ]
  },
  {
   "cell_type": "code",
   "execution_count": 3,
   "metadata": {},
   "outputs": [
    {
     "name": "stdout",
     "output_type": "stream",
     "text": [
      "[ 2200. -2200.   400.  -400.   399.  -100.     0.     0.  -100.     0.\n",
      "     0.  -100.     0.     0.  -100.     0.     0.]\n"
     ]
    }
   ],
   "source": [
    "z = np.dot(coef[ind],mat)\n",
    "dec = coef - z\n",
    "print(dec)"
   ]
  },
  {
   "cell_type": "code",
   "execution_count": 4,
   "metadata": {},
   "outputs": [
    {
     "name": "stdout",
     "output_type": "stream",
     "text": [
      "Mat = \n",
      "    0    1    2    3    4    5    6    7    8    9    10   11   12   13   14  \\\n",
      "0  0.0  0.0  0.9 -0.9  0.9 -1.0  1.0  0.0  0.0  0.0  0.0  0.0  0.0  0.0  0.1   \n",
      "1  0.0  0.0  0.9 -0.9 -1.1  0.0  0.0  1.0  0.0  0.0  0.0  0.0  0.0  0.0  0.1   \n",
      "2  0.0  0.0  0.6 -0.6  0.6  0.0  0.0  0.0 -1.0  1.0  0.0  0.0  0.0  0.0  0.4   \n",
      "3  0.0  0.0  0.6 -0.6 -1.4  0.0  0.0  0.0  0.0  0.0  1.0  0.0  0.0  0.0  0.4   \n",
      "4  0.0  0.0  0.3 -0.3  0.3  0.0  0.0  0.0  0.0  0.0  0.0 -1.0  1.0  0.0  0.7   \n",
      "5  0.0  0.0  0.3 -0.3 -1.7  0.0  0.0  0.0  0.0  0.0  0.0  0.0  0.0  1.0  0.7   \n",
      "6  1.0 -1.0  0.1 -0.1  0.1  0.0  0.0  0.0  0.0  0.0  0.0  0.0  0.0  0.0 -0.1   \n",
      "7  0.0  0.0  0.0  0.0 -2.0  0.0  0.0  0.0  0.0  0.0  0.0  0.0  0.0  0.0  1.0   \n",
      "\n",
      "    15   16  \n",
      "0 -0.1  0.0  \n",
      "1 -0.1  0.0  \n",
      "2 -0.4  0.0  \n",
      "3 -0.4  0.0  \n",
      "4 -0.7  0.0  \n",
      "5 -0.7  0.0  \n",
      "6  0.1  0.0  \n",
      "7 -1.0  1.0  \n",
      "Dec = \n",
      "[   0.    0.  180. -180.  179. -100.    0.    0. -100.    0.    0. -100.\n",
      "    0.    0.  120. -220.    0.]\n",
      "ans = \n",
      "[1.5 1.5 5.  5.  1.5 1.5 3.5 0. ]\n",
      "ind = \n",
      "[ 6  7  9 10 12 13  0 16]\n",
      "Mat = \n",
      "    0    1    2    3            4    5    6    7    8    9    10   11   12  \\\n",
      "0  0.0  0.0  0.0 -0.9  180000000.9 -1.0  1.0  0.0  0.0  0.0  0.0  0.0  0.0   \n",
      "1  0.0  0.0  0.0 -0.9  179999998.9  0.0  0.0  1.0  0.0  0.0  0.0  0.0  0.0   \n",
      "2  0.0  0.0  0.0 -0.6  120000000.6  0.0  0.0  0.0 -1.0  1.0  0.0  0.0  0.0   \n",
      "3  0.0  0.0  0.0 -0.6  119999998.6  0.0  0.0  0.0  0.0  0.0  1.0  0.0  0.0   \n",
      "4  0.0  0.0  0.0 -0.3   60000000.3  0.0  0.0  0.0  0.0  0.0  0.0 -1.0  1.0   \n",
      "5  0.0  0.0  0.0 -0.3   59999998.3  0.0  0.0  0.0  0.0  0.0  0.0  0.0  0.0   \n",
      "6  1.0 -1.0  0.0 -0.1   20000000.1  0.0  0.0  0.0  0.0  0.0  0.0  0.0  0.0   \n",
      "7  0.0  0.0  1.0  0.0 -200000000.0  0.0  0.0  0.0  0.0  0.0  0.0  0.0  0.0   \n",
      "\n",
      "    13           14           15           16  \n",
      "0  0.0  -89999999.9   89999999.9  -90000000.0  \n",
      "1  0.0  -89999999.9   89999999.9  -90000000.0  \n",
      "2  0.0  -59999999.6   59999999.6  -60000000.0  \n",
      "3  0.0  -59999999.6   59999999.6  -60000000.0  \n",
      "4  0.0  -29999999.3   29999999.3  -30000000.0  \n",
      "5  1.0  -29999999.3   29999999.3  -30000000.0  \n",
      "6  0.0  -10000000.1   10000000.1  -10000000.0  \n",
      "7  0.0  100000000.0 -100000000.0  100000000.0  \n",
      "Dec = \n",
      "[ 0.00000000e+00  0.00000000e+00  0.00000000e+00 -1.80000000e+02\n",
      "  3.60000002e+10 -1.00000000e+02  0.00000000e+00  0.00000000e+00\n",
      " -1.00000000e+02  0.00000000e+00  0.00000000e+00 -1.00000000e+02\n",
      "  0.00000000e+00  0.00000000e+00 -1.79999999e+10  1.79999998e+10\n",
      " -1.80000000e+10]\n",
      "ans = \n",
      "[1.5 1.5 5.  5.  1.5 1.5 3.5 0. ]\n",
      "ind = \n",
      "[ 6  7  9 10 12 13  0  2]\n",
      "Mat = \n",
      "    0    1    2             3    4             5             6    7    8   \\\n",
      "0  0.0  0.0  0.0 -5.000000e-09  1.0 -5.555556e-09  5.555556e-09  0.0  0.0   \n",
      "1  0.0  0.0  0.0 -1.000000e-08  0.0  1.000000e+00 -1.000000e+00  1.0  0.0   \n",
      "2  0.0  0.0  0.0 -1.110223e-16  0.0  6.666667e-01 -6.666667e-01  0.0 -1.0   \n",
      "3  0.0  0.0  0.0 -1.000000e-08  0.0  6.666667e-01 -6.666667e-01  0.0  0.0   \n",
      "4  0.0  0.0  0.0 -5.551115e-17  0.0  3.333333e-01 -3.333333e-01  0.0  0.0   \n",
      "5  0.0  0.0  0.0 -1.000000e-08  0.0  3.333333e-01 -3.333333e-01  0.0  0.0   \n",
      "6  1.0 -1.0  0.0 -1.387779e-17  0.0  1.111111e-01 -1.111111e-01  0.0  0.0   \n",
      "7  0.0  0.0  1.0 -1.000000e+00  0.0 -1.111111e+00  1.111111e+00  0.0  0.0   \n",
      "\n",
      "    9    10   11   12   13        14        15   16  \n",
      "0  0.0  0.0  0.0  0.0  0.0 -0.500000  0.500000 -0.5  \n",
      "1  0.0  0.0  0.0  0.0  0.0 -1.000000  1.000000 -1.0  \n",
      "2  1.0  0.0  0.0  0.0  0.0  0.333333 -0.333333  0.0  \n",
      "3  0.0  1.0  0.0  0.0  0.0 -0.666667  0.666667 -1.0  \n",
      "4  0.0  0.0 -1.0  1.0  0.0  0.666667 -0.666667  0.0  \n",
      "5  0.0  0.0  0.0  0.0  1.0 -0.333333  0.333333 -1.0  \n",
      "6  0.0  0.0  0.0  0.0  0.0 -0.111111  0.111111  0.0  \n",
      "7  0.0  0.0  0.0  0.0  0.0  0.611111 -0.611111  0.5  \n",
      "Dec = \n",
      "[ 0.00000000e+00  0.00000000e+00  0.00000000e+00 -5.00001663e-09\n",
      "  0.00000000e+00  1.00000000e+02 -2.00000000e+02  0.00000000e+00\n",
      " -1.00000000e+02  0.00000000e+00  0.00000000e+00 -1.00000000e+02\n",
      "  0.00000000e+00  0.00000000e+00  9.94999993e+01 -1.99499999e+02\n",
      " -4.99999998e-01]\n",
      "ans = \n",
      "[8.33333329e-09 1.66666667e-08 4.00000000e+00 4.00000002e+00\n",
      " 1.00000000e+00 1.00000002e+00 3.33333333e+00 1.66666666e+00]\n",
      "ind = \n",
      "[ 4  7  9 10 12 13  0  2]\n",
      "Mat = \n",
      "    0    1    2             3    4    5    6             7    8    9    10  \\\n",
      "0  0.0  0.0  0.0 -5.000000e-09  1.0  0.0  0.0  5.555556e-09  0.0  0.0  0.0   \n",
      "1  0.0  0.0  0.0 -1.000000e-08  0.0  1.0 -1.0  1.000000e+00  0.0  0.0  0.0   \n",
      "2  0.0  0.0  0.0  6.666667e-09  0.0  0.0  0.0 -6.666667e-01 -1.0  1.0  0.0   \n",
      "3  0.0  0.0  0.0 -3.333333e-09  0.0  0.0  0.0 -6.666667e-01  0.0  0.0  1.0   \n",
      "4  0.0  0.0  0.0  3.333333e-09  0.0  0.0  0.0 -3.333333e-01  0.0  0.0  0.0   \n",
      "5  0.0  0.0  0.0 -6.666667e-09  0.0  0.0  0.0 -3.333333e-01  0.0  0.0  0.0   \n",
      "6  1.0 -1.0  0.0  1.111111e-09  0.0  0.0  0.0 -1.111111e-01  0.0  0.0  0.0   \n",
      "7  0.0  0.0  1.0 -1.000000e+00  0.0  0.0  0.0  1.111111e+00  0.0  0.0  0.0   \n",
      "\n",
      "    11   12   13            14            15        16  \n",
      "0  0.0  0.0  0.0 -5.000000e-01  5.000000e-01 -0.500000  \n",
      "1  0.0  0.0  0.0 -1.000000e+00  1.000000e+00 -1.000000  \n",
      "2  0.0  0.0  0.0  1.000000e+00 -1.000000e+00  0.666667  \n",
      "3  0.0  0.0  0.0 -1.220177e-09  1.220177e-09 -0.333333  \n",
      "4 -1.0  1.0  0.0  1.000000e+00 -1.000000e+00  0.333333  \n",
      "5  0.0  0.0  1.0 -2.440354e-09  2.440354e-09 -0.666667  \n",
      "6  0.0  0.0  0.0  2.269371e-09 -2.269371e-09  0.111111  \n",
      "7  0.0  0.0  0.0 -5.000000e-01  5.000000e-01 -0.611111  \n",
      "Dec = \n",
      "[ 0.00000000e+00  0.00000000e+00  0.00000000e+00  9.94999999e-07\n",
      "  0.00000000e+00  0.00000000e+00 -1.00000000e+02 -1.00000001e+02\n",
      " -1.00000000e+02  0.00000000e+00  0.00000000e+00 -1.00000000e+02\n",
      "  0.00000000e+00  0.00000000e+00  1.99500000e+02 -2.99500000e+02\n",
      "  9.94999996e+01]\n",
      "ans = \n",
      "[8.33333338e-09 1.66666669e-08 3.99999999e+00 4.00000001e+00\n",
      " 9.99999994e-01 1.00000001e+00 3.33333333e+00 1.66666668e+00]\n",
      "ind = \n",
      "[ 4  5  9 10 12 13  0  2]\n",
      "Mat = \n",
      "    0    1    2             3    4    5    6         7    8    9    10  \\\n",
      "0  0.0  0.0  0.0 -3.333333e-09  1.0  0.0  0.0 -0.166667  0.0  0.0  0.0   \n",
      "1  0.0  0.0  0.0 -6.666667e-09  0.0  1.0 -1.0  0.666667  0.0  0.0  0.0   \n",
      "2  0.0  0.0  0.0  3.333333e-09  0.0  0.0  0.0 -0.333333 -1.0  1.0  0.0   \n",
      "3  0.0  0.0  0.0 -3.333333e-09  0.0  0.0  0.0 -0.666667  0.0  0.0  1.0   \n",
      "4  0.0  0.0  0.0  3.333333e-09  0.0  0.0  0.0 -0.333333  0.0  0.0  0.0   \n",
      "5  0.0  0.0  0.0 -6.666667e-09  0.0  0.0  0.0 -0.333333  0.0  0.0  0.0   \n",
      "6  1.0 -1.0  0.0  1.111111e-09  0.0  0.0  0.0 -0.111111  0.0  0.0  0.0   \n",
      "7  0.0  0.0  1.0 -1.000000e+00  0.0  0.0  0.0  0.944444  0.0  0.0  0.0   \n",
      "\n",
      "             11            12   13   14   15        16  \n",
      "0 -5.000000e-01  5.000000e-01  0.0  0.0  0.0 -0.333333  \n",
      "1 -1.000000e+00  1.000000e+00  0.0  0.0  0.0 -0.666667  \n",
      "2  1.000000e+00 -1.000000e+00  0.0  0.0  0.0  0.333333  \n",
      "3 -1.220177e-09  1.220177e-09  0.0  0.0  0.0 -0.333333  \n",
      "4 -1.000000e+00  1.000000e+00  0.0  1.0 -1.0  0.333333  \n",
      "5 -2.440354e-09  2.440354e-09  1.0  0.0  0.0 -0.666667  \n",
      "6  2.269371e-09 -2.269371e-09  0.0  0.0  0.0  0.111111  \n",
      "7 -5.000000e-01  5.000000e-01  0.0  0.0  0.0 -0.444444  \n",
      "Dec = \n",
      "[ 0.00000000e+00  0.00000000e+00  0.00000000e+00  3.29999999e-07\n",
      "  0.00000000e+00  0.00000000e+00 -1.00000000e+02 -3.35000003e+01\n",
      " -1.00000000e+02  0.00000000e+00  0.00000000e+00  9.95000001e+01\n",
      " -1.99500000e+02  0.00000000e+00  0.00000000e+00 -1.00000000e+02\n",
      "  3.29999998e+01]\n",
      "ans = \n",
      "[0.50000001 1.00000002 2.99999999 4.00000001 0.99999999 1.00000001\n",
      " 3.33333333 2.16666669]\n",
      "ind = \n",
      "[ 4  5  9 10 14 13  0  2]\n",
      "Mat = \n",
      "    0    1    2             3    4    5    6         7             8   \\\n",
      "0  0.0  0.0  0.0 -1.666667e-09  1.0  0.0  0.0 -0.333333 -5.000000e-01   \n",
      "1  0.0  0.0  0.0 -3.333333e-09  0.0  1.0 -1.0  0.333333 -1.000000e+00   \n",
      "2  0.0  0.0  0.0  3.333333e-09  0.0  0.0  0.0 -0.333333 -1.000000e+00   \n",
      "3  0.0  0.0  0.0 -3.333333e-09  0.0  0.0  0.0 -0.666667 -1.220177e-09   \n",
      "4  0.0  0.0  0.0  6.666667e-09  0.0  0.0  0.0 -0.666667 -1.000000e+00   \n",
      "5  0.0  0.0  0.0 -6.666667e-09  0.0  0.0  0.0 -0.333333 -2.440354e-09   \n",
      "6  1.0 -1.0  0.0  1.111111e-09  0.0  0.0  0.0 -0.111111  2.269371e-09   \n",
      "7  0.0  0.0  1.0 -1.000000e+00  0.0  0.0  0.0  0.777778 -5.000000e-01   \n",
      "\n",
      "             9    10   11   12   13   14   15        16  \n",
      "0  5.000000e-01  0.0  0.0  0.0  0.0  0.0  0.0 -0.166667  \n",
      "1  1.000000e+00  0.0  0.0  0.0  0.0  0.0  0.0 -0.333333  \n",
      "2  1.000000e+00  0.0  1.0 -1.0  0.0  0.0  0.0  0.333333  \n",
      "3  1.220177e-09  1.0  0.0  0.0  0.0  0.0  0.0 -0.333333  \n",
      "4  1.000000e+00  0.0  0.0  0.0  0.0  1.0 -1.0  0.666667  \n",
      "5  2.440354e-09  0.0  0.0  0.0  1.0  0.0  0.0 -0.666667  \n",
      "6 -2.269371e-09  0.0  0.0  0.0  0.0  0.0  0.0  0.111111  \n",
      "7  5.000000e-01  0.0  0.0  0.0  0.0  0.0  0.0 -0.277778  \n",
      "Dec = \n",
      "[ 0.00000000e+00  0.00000000e+00  0.00000000e+00 -1.66666669e-09\n",
      "  0.00000000e+00  0.00000000e+00 -1.00000000e+02 -3.33333332e-01\n",
      " -5.00000001e-01 -9.95000000e+01  0.00000000e+00  0.00000000e+00\n",
      " -1.00000000e+02  0.00000000e+00  0.00000000e+00 -1.00000000e+02\n",
      " -1.66666670e-01]\n",
      "ans = \n",
      "[2.00000001 4.00000004 2.99999999 4.00000001 3.99999998 1.00000002\n",
      " 3.33333332 3.66666672]\n",
      "ind = \n",
      "[ 4  5 11 10 14 13  0  2]\n"
     ]
    }
   ],
   "source": [
    "while max(dec)>0:\n",
    "    incoming = np.where(dec == max(dec))[0][0]\n",
    "    divider = (mat[:,incoming])\n",
    "    divider[divider==0] = 10**-8\n",
    "    incd = (ans/divider)\n",
    "    incd[divider<0] = 10**12\n",
    "    outgoing = np.where(incd == min(incd))[0][0]\n",
    "    ind[outgoing] = incoming\n",
    "    ans = ans - min(incd)*mat[:,incoming]\n",
    "    ans[outgoing] = min(incd)\n",
    "    mat[outgoing,:]=mat[outgoing,:]/(mat[outgoing,incoming])\n",
    "    for i in range(mat.shape[0]):\n",
    "        if i!=outgoing:\n",
    "            mat[i] = mat[i] - mat[i,incoming]*mat[outgoing]\n",
    "    z = np.dot(coef[ind],mat)\n",
    "    print(\"Mat = \")\n",
    "    print(pd.DataFrame(mat))\n",
    "    dec = coef - z\n",
    "    print(\"Dec = \")\n",
    "    print(dec)\n",
    "    print(\"ans = \")\n",
    "    print(ans)\n",
    "    print(\"ind = \")\n",
    "    print(ind)"
   ]
  },
  {
   "cell_type": "code",
   "execution_count": 5,
   "metadata": {},
   "outputs": [
    {
     "data": {
      "text/plain": [
       "array([ 4,  5, 11, 10, 14, 13,  0,  2])"
      ]
     },
     "execution_count": 5,
     "metadata": {},
     "output_type": "execute_result"
    }
   ],
   "source": [
    "ind"
   ]
  },
  {
   "cell_type": "code",
   "execution_count": 6,
   "metadata": {},
   "outputs": [
    {
     "data": {
      "text/plain": [
       "array([ 0.00000000e+00,  0.00000000e+00,  0.00000000e+00, -1.66666669e-09,\n",
       "        0.00000000e+00,  0.00000000e+00, -1.00000000e+02, -3.33333332e-01,\n",
       "       -5.00000001e-01, -9.95000000e+01,  0.00000000e+00,  0.00000000e+00,\n",
       "       -1.00000000e+02,  0.00000000e+00,  0.00000000e+00, -1.00000000e+02,\n",
       "       -1.66666670e-01])"
      ]
     },
     "execution_count": 6,
     "metadata": {},
     "output_type": "execute_result"
    }
   ],
   "source": [
    "dec"
   ]
  },
  {
   "cell_type": "code",
   "execution_count": 7,
   "metadata": {},
   "outputs": [
    {
     "data": {
      "text/plain": [
       "array([2.00000001, 4.00000004, 2.99999999, 4.00000001, 3.99999998,\n",
       "       1.00000002, 3.33333332, 3.66666672])"
      ]
     },
     "execution_count": 7,
     "metadata": {},
     "output_type": "execute_result"
    }
   ],
   "source": [
    "ans"
   ]
  },
  {
   "cell_type": "code",
   "execution_count": 8,
   "metadata": {},
   "outputs": [
    {
     "data": {
      "text/plain": [
       "(8, 17)"
      ]
     },
     "execution_count": 8,
     "metadata": {},
     "output_type": "execute_result"
    }
   ],
   "source": [
    "mat.shape"
   ]
  },
  {
   "cell_type": "code",
   "execution_count": 9,
   "metadata": {},
   "outputs": [
    {
     "data": {
      "text/plain": [
       "array([[ 0.00000000e+00,  0.00000000e+00,  0.00000000e+00,\n",
       "        -1.66666669e-09,  1.00000000e+00,  0.00000000e+00,\n",
       "         0.00000000e+00, -3.33333332e-01, -5.00000001e-01,\n",
       "         5.00000001e-01,  0.00000000e+00,  0.00000000e+00,\n",
       "         0.00000000e+00,  0.00000000e+00,  0.00000000e+00,\n",
       "         0.00000000e+00, -1.66666670e-01],\n",
       "       [ 0.00000000e+00,  0.00000000e+00,  0.00000000e+00,\n",
       "        -3.33333344e-09,  0.00000000e+00,  1.00000000e+00,\n",
       "        -1.00000000e+00,  3.33333331e-01, -1.00000001e+00,\n",
       "         1.00000001e+00,  0.00000000e+00,  0.00000000e+00,\n",
       "         0.00000000e+00,  0.00000000e+00,  0.00000000e+00,\n",
       "         0.00000000e+00, -3.33333326e-01],\n",
       "       [ 0.00000000e+00,  0.00000000e+00,  0.00000000e+00,\n",
       "         3.33333332e-09,  0.00000000e+00,  0.00000000e+00,\n",
       "         0.00000000e+00, -3.33333336e-01, -9.99999999e-01,\n",
       "         9.99999999e-01,  0.00000000e+00,  1.00000000e+00,\n",
       "        -1.00000000e+00,  0.00000000e+00,  0.00000000e+00,\n",
       "         0.00000000e+00,  3.33333331e-01],\n",
       "       [ 0.00000000e+00,  0.00000000e+00,  0.00000000e+00,\n",
       "        -3.33333338e-09,  0.00000000e+00,  0.00000000e+00,\n",
       "         0.00000000e+00, -6.66666664e-01, -1.22017685e-09,\n",
       "         1.22017685e-09,  1.00000000e+00,  0.00000000e+00,\n",
       "         0.00000000e+00,  0.00000000e+00,  0.00000000e+00,\n",
       "         0.00000000e+00, -3.33333346e-01],\n",
       "       [ 0.00000000e+00,  0.00000000e+00,  0.00000000e+00,\n",
       "         6.66666665e-09,  0.00000000e+00,  0.00000000e+00,\n",
       "         0.00000000e+00, -6.66666672e-01, -9.99999998e-01,\n",
       "         9.99999998e-01,  0.00000000e+00,  0.00000000e+00,\n",
       "         0.00000000e+00,  0.00000000e+00,  1.00000000e+00,\n",
       "        -1.00000000e+00,  6.66666663e-01],\n",
       "       [ 0.00000000e+00,  0.00000000e+00,  0.00000000e+00,\n",
       "        -6.66666670e-09,  0.00000000e+00,  0.00000000e+00,\n",
       "         0.00000000e+00, -3.33333328e-01, -2.44035386e-09,\n",
       "         2.44035386e-09,  0.00000000e+00,  0.00000000e+00,\n",
       "         0.00000000e+00,  1.00000000e+00,  0.00000000e+00,\n",
       "         0.00000000e+00, -6.66666674e-01],\n",
       "       [ 1.00000000e+00, -1.00000000e+00,  0.00000000e+00,\n",
       "         1.11111110e-09,  0.00000000e+00,  0.00000000e+00,\n",
       "         0.00000000e+00, -1.11111111e-01,  2.26937077e-09,\n",
       "        -2.26937077e-09,  0.00000000e+00,  0.00000000e+00,\n",
       "         0.00000000e+00,  0.00000000e+00,  0.00000000e+00,\n",
       "         0.00000000e+00,  1.11111109e-01],\n",
       "       [ 0.00000000e+00,  0.00000000e+00,  1.00000000e+00,\n",
       "        -1.00000000e+00,  0.00000000e+00,  0.00000000e+00,\n",
       "         0.00000000e+00,  7.77777773e-01, -5.00000012e-01,\n",
       "         5.00000012e-01,  0.00000000e+00,  0.00000000e+00,\n",
       "         0.00000000e+00,  0.00000000e+00,  0.00000000e+00,\n",
       "         0.00000000e+00, -2.77777761e-01]])"
      ]
     },
     "execution_count": 9,
     "metadata": {},
     "output_type": "execute_result"
    }
   ],
   "source": [
    "mat"
   ]
  },
  {
   "cell_type": "code",
   "execution_count": 10,
   "metadata": {},
   "outputs": [],
   "source": [
    "# Comparing Solution of best fit line by minimizing L2 norm(least squares) and Linfinity norm"
   ]
  },
  {
   "cell_type": "code",
   "execution_count": 12,
   "metadata": {},
   "outputs": [],
   "source": [
    "X = np.array([[1,1],[4,1],[7,1],[10,1]])\n",
    "Y = np.array([5,19,26,35])"
   ]
  },
  {
   "cell_type": "code",
   "execution_count": 13,
   "metadata": {},
   "outputs": [],
   "source": [
    "inv = np.linalg.inv(np.dot(np.transpose(X),X))\n",
    "ans = np.dot(inv,np.dot(np.transpose(X),Y))"
   ]
  },
  {
   "cell_type": "code",
   "execution_count": 14,
   "metadata": {},
   "outputs": [],
   "source": [
    "x = np.linspace(0,15)"
   ]
  },
  {
   "cell_type": "code",
   "execution_count": 15,
   "metadata": {},
   "outputs": [],
   "source": [
    "y1 = ans[0]*x + ans[1]\n",
    "y2 = 3.33333332*x + 3.66666672"
   ]
  },
  {
   "cell_type": "code",
   "execution_count": 19,
   "metadata": {},
   "outputs": [
    {
     "data": {
      "image/png": "[encoded data removed]",
      "text/plain": [
       "<Figure size 432x288 with 1 Axes>"
      ]
     },
     "metadata": {
      "needs_background": "light"
     },
     "output_type": "display_data"
    }
   ],
   "source": [
    "plt.plot(x,y1,label = \"Minimizing L2 norm\")\n",
    "plt.plot([1,4,7,10],Y,\"bo\")\n",
    "plt.xlabel(\"Number of Weeks\")\n",
    "plt.ylabel(\"Words per minute\")\n",
    "plt.legend()\n",
    "plt.show()"
   ]
  },
  {
   "cell_type": "code",
   "execution_count": 20,
   "metadata": {},
   "outputs": [
    {
     "data": {
      "image/png": "[encoded data removed]",
      "text/plain": [
       "<Figure size 432x288 with 1 Axes>"
      ]
     },
     "metadata": {
      "needs_background": "light"
     },
     "output_type": "display_data"
    }
   ],
   "source": [
    "plt.plot(x,y2,label = \"Minimizing Linf norm\")\n",
    "plt.plot([1,4,7,10],Y,\"bo\")\n",
    "plt.xlabel(\"Number of Weeks\")\n",
    "plt.ylabel(\"Words per minute\")\n",
    "plt.legend()\n",
    "plt.show()"
   ]
  },
  {
   "cell_type": "code",
   "execution_count": 21,
   "metadata": {},
   "outputs": [
    {
     "data": {
      "image/png": "[encoded data removed]",
      "text/plain": [
       "<Figure size 432x288 with 1 Axes>"
      ]
     },
     "metadata": {
      "needs_background": "light"
     },
     "output_type": "display_data"
    }
   ],
   "source": [
    "plt.plot(x,y1,label = \"Minimizing L2 norm\")\n",
    "plt.plot(x,y2,label = \"Minimizing Linf norm\")\n",
    "plt.plot([1,4,7,10],Y,\"bo\")\n",
    "plt.xlabel(\"Number of Weeks\")\n",
    "plt.ylabel(\"Words per minute\")\n",
    "plt.legend()\n",
    "plt.show()"
   ]
  },
  {
   "cell_type": "code",
   "execution_count": null,
   "metadata": {},
   "outputs": [],
   "source": []
  }
 ],
 "metadata": {
  "kernelspec": {
   "display_name": "Python 3",
   "language": "python",
   "name": "python3"
  },
  "language_info": {
   "codemirror_mode": {
    "name": "ipython",
    "version": 3
   },
   "file_extension": ".py",
   "mimetype": "text/x-python",
   "name": "python",
   "nbconvert_exporter": "python",
   "pygments_lexer": "ipython3",
   "version": "3.6.8"
  }
 },
 "nbformat": 4,
 "nbformat_minor": 2
}
