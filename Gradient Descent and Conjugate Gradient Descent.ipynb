{
 "cells": [
  {
   "cell_type": "code",
   "execution_count": 1,
   "metadata": {},
   "outputs": [],
   "source": [
    "import numpy as np\n",
    "import matplotlib.pyplot as plt"
   ]
  },
  {
   "cell_type": "code",
   "execution_count": 2,
   "metadata": {},
   "outputs": [],
   "source": [
    "Q = np.array([[10.0,4.0],\n",
    "              [4.0,2.0]])"
   ]
  },
  {
   "cell_type": "code",
   "execution_count": 3,
   "metadata": {},
   "outputs": [
    {
     "data": {
      "text/plain": [
       "array([[10.,  4.],\n",
       "       [ 4.,  2.]])"
      ]
     },
     "execution_count": 3,
     "metadata": {},
     "output_type": "execute_result"
    }
   ],
   "source": [
    "Q"
   ]
  },
  {
   "cell_type": "code",
   "execution_count": 4,
   "metadata": {},
   "outputs": [],
   "source": [
    "b = np.array([[5.0],[3.0]])"
   ]
  },
  {
   "cell_type": "code",
   "execution_count": 5,
   "metadata": {},
   "outputs": [
    {
     "data": {
      "text/plain": [
       "array([[5.],\n",
       "       [3.]])"
      ]
     },
     "execution_count": 5,
     "metadata": {},
     "output_type": "execute_result"
    }
   ],
   "source": [
    "b"
   ]
  },
  {
   "cell_type": "code",
   "execution_count": 6,
   "metadata": {},
   "outputs": [],
   "source": [
    "X = np.array([[0.0],[0.0]])\n",
    "x1 = [0]\n",
    "x2 = [0]"
   ]
  },
  {
   "cell_type": "code",
   "execution_count": 7,
   "metadata": {},
   "outputs": [],
   "source": [
    "#Steepest Descent Method\n",
    "for i in range(0,15):\n",
    "    g = np.dot(Q,X)-b\n",
    "    X = X - np.dot(np.transpose(g),g)*g/(np.dot(np.transpose(g),np.dot(Q,g)))\n",
    "    x1.append(float(X[0]))\n",
    "    x2.append(float(X[1]))"
   ]
  },
  {
   "cell_type": "code",
   "execution_count": 8,
   "metadata": {},
   "outputs": [
    {
     "data": {
      "text/plain": [
       "array([[-0.49834853],\n",
       "       [ 2.49606189]])"
      ]
     },
     "execution_count": 8,
     "metadata": {},
     "output_type": "execute_result"
    }
   ],
   "source": [
    "X"
   ]
  },
  {
   "cell_type": "code",
   "execution_count": 9,
   "metadata": {},
   "outputs": [
    {
     "data": {
      "text/plain": [
       "[0,\n",
       " 0.4381443298969072,\n",
       " -0.2979381443298965,\n",
       " -0.12087363162929063,\n",
       " -0.41834201296631235,\n",
       " -0.3467860449470985,\n",
       " -0.4670000712193778,\n",
       " -0.43808260785491276,\n",
       " -0.48666394630721527,\n",
       " -0.47497771368982394,\n",
       " -0.4946105844870394,\n",
       " -0.4898879007901149,\n",
       " -0.4978220094009499,\n",
       " -0.4959134609378629,\n",
       " -0.4991198223558441,\n",
       " -0.498348532667669]"
      ]
     },
     "execution_count": 9,
     "metadata": {},
     "output_type": "execute_result"
    }
   ],
   "source": [
    "x1"
   ]
  },
  {
   "cell_type": "code",
   "execution_count": 10,
   "metadata": {},
   "outputs": [],
   "source": [
    "X = np.array([[0.0],[0.0]])\n",
    "y1 = [0.0]\n",
    "y2 = [0.0]\n",
    "d = b-np.dot(Q,X)\n",
    "g = np.dot(Q,X)-b"
   ]
  },
  {
   "cell_type": "code",
   "execution_count": 11,
   "metadata": {},
   "outputs": [],
   "source": [
    "#Conjugate Gradient Method\n",
    "for i in range(0,15):\n",
    "    alpha = -np.dot(np.transpose(g),d)/(np.dot(np.transpose(d),np.dot(Q,d)))\n",
    "    X = X + alpha*d\n",
    "    y1.append(float(X[0]))\n",
    "    y2.append(float(X[1]))\n",
    "    g = np.dot(Q,X)-b\n",
    "    beta = np.dot(np.transpose(g),np.dot(Q,d))/(np.dot(np.transpose(d),np.dot(Q,d)))\n",
    "    d = -g + beta*d"
   ]
  },
  {
   "cell_type": "code",
   "execution_count": 12,
   "metadata": {},
   "outputs": [
    {
     "data": {
      "text/plain": [
       "array([[-0.5],\n",
       "       [ 2.5]])"
      ]
     },
     "execution_count": 12,
     "metadata": {},
     "output_type": "execute_result"
    }
   ],
   "source": [
    "X"
   ]
  },
  {
   "cell_type": "code",
   "execution_count": 13,
   "metadata": {},
   "outputs": [
    {
     "data": {
      "text/plain": [
       "[0.0,\n",
       " 0.4381443298969072,\n",
       " -0.5000000000000002,\n",
       " -0.5000000000000001,\n",
       " -0.5000000000000002,\n",
       " -0.5000000000000001,\n",
       " -0.5000000000000002,\n",
       " -0.5000000000000001,\n",
       " -0.5000000000000002,\n",
       " -0.5000000000000001,\n",
       " -0.5000000000000002,\n",
       " -0.5000000000000001,\n",
       " -0.5000000000000002,\n",
       " -0.5000000000000001,\n",
       " -0.5000000000000002,\n",
       " -0.5000000000000001]"
      ]
     },
     "execution_count": 13,
     "metadata": {},
     "output_type": "execute_result"
    }
   ],
   "source": [
    "y1"
   ]
  },
  {
   "cell_type": "code",
   "execution_count": 14,
   "metadata": {},
   "outputs": [
    {
     "data": {
      "text/plain": [
       "[0.0,\n",
       " 0.2628865979381443,\n",
       " 2.5,\n",
       " 2.5,\n",
       " 2.5,\n",
       " 2.5,\n",
       " 2.5,\n",
       " 2.5,\n",
       " 2.5,\n",
       " 2.5,\n",
       " 2.5,\n",
       " 2.5,\n",
       " 2.5,\n",
       " 2.5,\n",
       " 2.5,\n",
       " 2.5]"
      ]
     },
     "execution_count": 14,
     "metadata": {},
     "output_type": "execute_result"
    }
   ],
   "source": [
    "y2"
   ]
  },
  {
   "cell_type": "code",
   "execution_count": 36,
   "metadata": {},
   "outputs": [
    {
     "data": {
      "image/png": "[encoded data removed]",
      "text/plain": [
       "<Figure size 432x288 with 1 Axes>"
      ]
     },
     "metadata": {
      "needs_background": "light"
     },
     "output_type": "display_data"
    }
   ],
   "source": [
    "plt.plot(x1,x2,\"b\",)\n",
    "plt.plot(x1,x2,\"r+\")\n",
    "plt.plot(-0.5,2.5,\"bo\")\n",
    "plt.xlabel(\"X1 Value\")\n",
    "plt.ylabel(\"X2 Value\")\n",
    "plt.title(\"Steepest Descent\")\n",
    "plt.show()"
   ]
  },
  {
   "cell_type": "code",
   "execution_count": 32,
   "metadata": {},
   "outputs": [
    {
     "data": {
      "image/png": "[encoded data removed]",
      "text/plain": [
       "<Figure size 432x288 with 1 Axes>"
      ]
     },
     "metadata": {
      "needs_background": "light"
     },
     "output_type": "display_data"
    }
   ],
   "source": [
    "plt.plot(y1,y2,\"b\")\n",
    "plt.plot(y1,y2,\"r+\")\n",
    "plt.plot(-0.5,2.5,\"bo\")\n",
    "plt.xlabel(\"X1 Value\")\n",
    "plt.ylabel(\"X2 VAlue\")\n",
    "plt.title(\"Conjugate Gradient Descent\")\n",
    "plt.show()"
   ]
  },
  {
   "cell_type": "code",
   "execution_count": 39,
   "metadata": {},
   "outputs": [
    {
     "data": {
      "image/png": "[encoded data removed]",
      "text/plain": [
       "<Figure size 432x288 with 1 Axes>"
      ]
     },
     "metadata": {
      "needs_background": "light"
     },
     "output_type": "display_data"
    }
   ],
   "source": [
    "plt.plot(x1,x2,y1,y2)\n",
    "plt.plot(x1,x2,\"r+\")\n",
    "plt.plot(y1,y2,\"b+\")\n",
    "plt.plot(-0.5,2.5,\"bo\")\n",
    "plt.xlabel(\"X1 Value\")\n",
    "plt.ylabel(\"X2 Value\")\n",
    "plt.title(\"Steepest Descent vs Cojugate Gradient Descent\")\n",
    "plt.show()"
   ]
  },
  {
   "cell_type": "code",
   "execution_count": null,
   "metadata": {},
   "outputs": [],
   "source": []
  }
 ],
 "metadata": {
  "kernelspec": {
   "display_name": "Python 3",
   "language": "python",
   "name": "python3"
  },
  "language_info": {
   "codemirror_mode": {
    "name": "ipython",
    "version": 3
   },
   "file_extension": ".py",
   "mimetype": "text/x-python",
   "name": "python",
   "nbconvert_exporter": "python",
   "pygments_lexer": "ipython3",
   "version": "3.6.8"
  }
 },
 "nbformat": 4,
 "nbformat_minor": 2
}
